{
 "cells": [
  {
   "cell_type": "code",
   "execution_count": 4,
   "metadata": {},
   "outputs": [
    {
     "name": "stdout",
     "output_type": "stream",
     "text": [
      "f863800a83061a8094095e7baea6a6c7c4c2dfeb977efac326af552d87830186a0801ba0ffb600e63115a7362e7811894a91d8ba4330e526f22121c994c4692035dfdfd5a06198379fcac8de3dbfac48b165df4bf88e2088f294b61efb9a65fe2281c76e16\n"
     ]
    }
   ],
   "source": [
    "#!pip3 install py-evm\n",
    "from eth_keys import keys\n",
    "from eth_utils import decode_hex\n",
    "from eth_typing import Address\n",
    "from eth import constants\n",
    "from eth.chains.base import MiningChain\n",
    "from eth.vm.forks.byzantium import ByzantiumVM\n",
    "from eth.db.atomic import AtomicDB\n",
    "\n",
    "EXPECTED_TX = \"f863800a83061a8094095e7baea6a6c7c4c2dfeb977efac326af552d87830186a0801ba0ffb600e63115a7362e7811894a91d8ba4330e526f22121c994c4692035dfdfd5a06198379fcac8de3dbfac48b165df4bf88e2088f294b61efb9a65fe2281c76e16\"\n",
    "SENDER_PRIVATE_KEY = keys.PrivateKey(\n",
    "  decode_hex(\"0x45a915e4d060149eb4365960e6a7a45f334393093061116b197e3240065ff2d8\")\n",
    ")\n",
    "\n",
    "SENDER_ADDRESS = SENDER_PRIVATE_KEY.public_key.to_canonical_address()\n",
    "assert SENDER_ADDRESS == Address(0xa94f5374fce5edbc8e2a8697c15331677e6ebf0b.to_bytes(20, 'big'))\n",
    "\n",
    "RECEIVER_ADDRESS = Address(0x095e7baea6a6c7c4c2dfeb977efac326af552d87.to_bytes(20, 'big'))\n",
    "GENESIS_PARAMS = {\n",
    "    'difficulty': 0x020000,\n",
    "    'gas_limit': 0xff112233445566,\n",
    "    'timestamp': 0x03e8,\n",
    "}\n",
    "\n",
    "\n",
    "chain = MiningChain.configure(\n",
    "    __name__='TestChain',\n",
    "    vm_configuration=(\n",
    "        (constants.GENESIS_BLOCK_NUMBER, ByzantiumVM),\n",
    "    )\n",
    ").from_genesis(AtomicDB(), GENESIS_PARAMS)\n",
    "\n",
    "\n",
    "vm = chain.get_vm()\n",
    "nonce = vm.state._account_db.get_nonce(SENDER_ADDRESS)\n",
    "tx = vm.create_unsigned_transaction(\n",
    "    nonce=nonce,\n",
    "    gas_price=0x0a,\n",
    "    gas=0x061a80,\n",
    "    to=RECEIVER_ADDRESS,\n",
    "    value=0x0186a0,\n",
    "    data=b'',\n",
    ")\n",
    "\n",
    "\n",
    "tx_hex = tx.as_signed_transaction(SENDER_PRIVATE_KEY).encode().hex()\n",
    "print(tx_hex)"
   ]
  }
 ],
 "metadata": {
  "kernelspec": {
   "display_name": "Python 3",
   "language": "python",
   "name": "python3"
  },
  "language_info": {
   "codemirror_mode": {
    "name": "ipython",
    "version": 3
   },
   "file_extension": ".py",
   "mimetype": "text/x-python",
   "name": "python",
   "nbconvert_exporter": "python",
   "pygments_lexer": "ipython3",
   "version": "3.9.6"
  }
 },
 "nbformat": 4,
 "nbformat_minor": 2
}
