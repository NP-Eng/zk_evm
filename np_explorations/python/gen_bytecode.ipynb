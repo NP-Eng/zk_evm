{
 "cells": [
  {
   "cell_type": "code",
   "execution_count": 4,
   "metadata": {},
   "outputs": [
    {
     "name": "stdout",
     "output_type": "stream",
     "text": [
      "600160010160005500\n"
     ]
    }
   ],
   "source": [
    "from eth.vm import opcode_values\n",
    "from eth_utils import hexstr_if_str, to_bytes\n",
    "def assemble(*codes):\n",
    "    return b\"\".join(hexstr_if_str(to_bytes, element) for element in codes)\n",
    "\n",
    "add11 = [\n",
    "    opcode_values.PUSH1, \n",
    "    0x01,\n",
    "    opcode_values.PUSH1,\n",
    "    0x01,\n",
    "    opcode_values.ADD,\n",
    "    opcode_values.PUSH1,\n",
    "    0x00,\n",
    "    opcode_values.SSTORE,\n",
    "    opcode_values.STOP\n",
    "]\n",
    "#0x60, 0x01, 0x60, 0x01, 0x01, 0x60, 0x00, 0x55, 0x00\n",
    "\n",
    "bytecode = assemble(*add11)\n",
    "print(bytecode.hex())"
   ]
  }
 ],
 "metadata": {
  "kernelspec": {
   "display_name": "Python 3",
   "language": "python",
   "name": "python3"
  },
  "language_info": {
   "codemirror_mode": {
    "name": "ipython",
    "version": 3
   },
   "file_extension": ".py",
   "mimetype": "text/x-python",
   "name": "python",
   "nbconvert_exporter": "python",
   "pygments_lexer": "ipython3",
   "version": "3.9.6"
  }
 },
 "nbformat": 4,
 "nbformat_minor": 2
}
